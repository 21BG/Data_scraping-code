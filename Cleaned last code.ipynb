{
 "cells": [
  {
   "cell_type": "code",
   "execution_count": 23,
   "metadata": {},
   "outputs": [],
   "source": [
    "#Link = https://howpcrules.com/step-by-step-guide-on-scraping-data-from-a-website-and-saving-it-to-a-database/\n",
    "#Importing libraries\n",
    "import requests #for making HTTP requests in Python\n",
    "import MySQLdb #for linking to scraped data to SQL\n",
    "from bs4 import BeautifulSoup #for data scraping itself"
   ]
  },
  {
   "cell_type": "code",
   "execution_count": 24,
   "metadata": {},
   "outputs": [],
   "source": [
    "#SQL connection data to connect and save the data in\n",
    "HOST = \"localhost\"\n",
    "USERNAME = \"Bella Ghazaryan\"\n",
    "PASSWORD = \"Bella2019\"\n",
    "DATABASE = \"scraping_sample\""
   ]
  },
  {
   "cell_type": "code",
   "execution_count": 25,
   "metadata": {},
   "outputs": [],
   "source": [
    "list_url=['https://en.wikipedia.org/wiki/Avengers_(comics)',\n",
    "          'https://en.wikipedia.org/wiki/The_Avengers:_Earth%27s_Mightiest_Heroes',\n",
    "          'https://en.wikipedia.org/wiki/The_Avengers:_United_They_Stand',\n",
    "          'https://en.wikipedia.org/wiki/Avengers:_Age_of_Ultron',\n",
    "          'https://en.wikipedia.org/wiki/Avengers:_Endgame']"
   ]
  },
  {
   "cell_type": "code",
   "execution_count": 26,
   "metadata": {},
   "outputs": [],
   "source": [
    "i_length=len(list_url)"
   ]
  },
  {
   "cell_type": "code",
   "execution_count": 27,
   "metadata": {},
   "outputs": [],
   "source": [
    "results={}"
   ]
  },
  {
   "cell_type": "code",
   "execution_count": 35,
   "metadata": {},
   "outputs": [],
   "source": [
    "for i in range(0,i_length):\n",
    "    url=list_url[i]\n",
    "    plain_html_text = requests.get(url)\n",
    "    html_page = plain_html_text.content\n",
    "    soup = BeautifulSoup(html_page, 'html.parser')\n",
    "    the_word = 'Avengers'\n",
    "    text1 = soup.find_all('h1', text=lambda t: t and the_word in t)\n",
    "    results[url]=text1\n",
    "    #print(soup.text.strip())\n",
    "    #output = ''\n",
    "#    blacklist = [\n",
    "#        '[document]',\n",
    "#        'noscript',\n",
    "#        'header',\n",
    "#        'html',\n",
    "#        'meta',\n",
    "#        'head', \n",
    "#        'input',\n",
    "#        'script',\n",
    "#        'search',\n",
    "        # there may be more elements you don't want, such as \"style\", etc.\n",
    "#    ]\n",
    "\n",
    "#for t in text1:\n",
    "#\tif t.parent.name not in blacklist:\n",
    "#\t\toutput += '{} '.format(t)"
   ]
  },
  {
   "cell_type": "code",
   "execution_count": 7,
   "metadata": {},
   "outputs": [],
   "source": [
    "for i in range(0,i_length):\n",
    "    url=list_url[i]\n",
    "    plain_html_text = requests.get(url)\n",
    "    html_page = plain_html_text.content\n",
    "    soup = BeautifulSoup(html_page, 'html.parser')\n",
    "    the_word = 'Avengers'\n",
    "    text1 = soup.find_all('h1', text=lambda t: t and the_word in t)\n",
    "    results[url]=text1\n",
    "    #print(soup.text.strip())\n",
    "    output = ''\n",
    "#    blacklist = [\n",
    "#        '[document]',\n",
    "#        'noscript',\n",
    "#        'header',\n",
    "#        'html',\n",
    "#        'meta',\n",
    "#        'head', \n",
    "#        'input',\n",
    "#        'script',\n",
    "#        'search',\n",
    "        # there may be more elements you don't want, such as \"style\", etc.\n",
    "#    ]\n",
    "\n",
    "#for t in text1:\n",
    "#\tif t.parent.name not in blacklist:\n",
    "#\t\toutput += '{} '.format(t)"
   ]
  },
  {
   "cell_type": "code",
   "execution_count": 36,
   "metadata": {},
   "outputs": [
    {
     "name": "stdout",
     "output_type": "stream",
     "text": [
      "{'https://en.wikipedia.org/wiki/Avengers_(comics)': [<h1 class=\"firstHeading\" id=\"firstHeading\" lang=\"en\">Avengers (comics)</h1>], 'https://en.wikipedia.org/wiki/The_Avengers:_Earth%27s_Mightiest_Heroes': [<h1 class=\"firstHeading\" id=\"firstHeading\" lang=\"en\"><i>The Avengers: Earth's Mightiest Heroes</i></h1>], 'https://en.wikipedia.org/wiki/The_Avengers:_United_They_Stand': [<h1 class=\"firstHeading\" id=\"firstHeading\" lang=\"en\"><i>The Avengers: United They Stand</i></h1>], 'https://en.wikipedia.org/wiki/Avengers:_Age_of_Ultron': [<h1 class=\"firstHeading\" id=\"firstHeading\" lang=\"en\"><i>Avengers: Age of Ultron</i></h1>], 'https://en.wikipedia.org/wiki/Avengers:_Endgame': [<h1 class=\"firstHeading\" id=\"firstHeading\" lang=\"en\"><i>Avengers: Endgame</i></h1>]}\n"
     ]
    }
   ],
   "source": [
    "#for url, text1 in results.items():\n",
    "#    print (url)\n",
    "print (results)"
   ]
  },
  {
   "cell_type": "code",
   "execution_count": 37,
   "metadata": {},
   "outputs": [
    {
     "name": "stdout",
     "output_type": "stream",
     "text": [
      "https://en.wikipedia.org/wiki/Avengers_(comics):[<h1 class=\"firstHeading\" id=\"firstHeading\" lang=\"en\">Avengers (comics)</h1>]\n",
      "https://en.wikipedia.org/wiki/The_Avengers:_Earth%27s_Mightiest_Heroes:[<h1 class=\"firstHeading\" id=\"firstHeading\" lang=\"en\"><i>The Avengers: Earth's Mightiest Heroes</i></h1>]\n",
      "https://en.wikipedia.org/wiki/The_Avengers:_United_They_Stand:[<h1 class=\"firstHeading\" id=\"firstHeading\" lang=\"en\"><i>The Avengers: United They Stand</i></h1>]\n",
      "https://en.wikipedia.org/wiki/Avengers:_Age_of_Ultron:[<h1 class=\"firstHeading\" id=\"firstHeading\" lang=\"en\"><i>Avengers: Age of Ultron</i></h1>]\n",
      "https://en.wikipedia.org/wiki/Avengers:_Endgame:[<h1 class=\"firstHeading\" id=\"firstHeading\" lang=\"en\"><i>Avengers: Endgame</i></h1>]\n"
     ]
    }
   ],
   "source": [
    "for url, text1 in results.items():\n",
    "    print (str(url) + ':' + str(text1))\n",
    "#print (results['https://en.wikipedia.org/wiki/The_Avengers:_Earth%27s_Mightiest_Heroes'])"
   ]
  },
  {
   "cell_type": "code",
   "execution_count": 38,
   "metadata": {},
   "outputs": [],
   "source": [
    "records= []\n",
    "for result in results:\n",
    "    Scraped_url=url\n",
    "    Scraped_text=text1\n",
    "    records.append((Scraped_url, Scraped_text))"
   ]
  },
  {
   "cell_type": "code",
   "execution_count": 39,
   "metadata": {},
   "outputs": [],
   "source": [
    "import pandas as pd\n",
    "df=pd.DataFrame(records, columns=['Scraped url', 'Scraped text'])"
   ]
  },
  {
   "cell_type": "code",
   "execution_count": 12,
   "metadata": {},
   "outputs": [],
   "source": [
    "#df.head()"
   ]
  },
  {
   "cell_type": "code",
   "execution_count": 40,
   "metadata": {},
   "outputs": [],
   "source": [
    "import pandas as pd\n",
    "df=pd.DataFrame.from_dict(results)"
   ]
  },
  {
   "cell_type": "code",
   "execution_count": 19,
   "metadata": {},
   "outputs": [
    {
     "data": {
      "text/html": [
       "<div>\n",
       "<style scoped>\n",
       "    .dataframe tbody tr th:only-of-type {\n",
       "        vertical-align: middle;\n",
       "    }\n",
       "\n",
       "    .dataframe tbody tr th {\n",
       "        vertical-align: top;\n",
       "    }\n",
       "\n",
       "    .dataframe thead th {\n",
       "        text-align: right;\n",
       "    }\n",
       "</style>\n",
       "<table border=\"1\" class=\"dataframe\">\n",
       "  <thead>\n",
       "    <tr style=\"text-align: right;\">\n",
       "      <th></th>\n",
       "      <th>https://en.wikipedia.org/wiki/Avengers_(comics)</th>\n",
       "      <th>https://en.wikipedia.org/wiki/The_Avengers:_Earth%27s_Mightiest_Heroes</th>\n",
       "      <th>https://en.wikipedia.org/wiki/The_Avengers:_United_They_Stand</th>\n",
       "      <th>https://en.wikipedia.org/wiki/Avengers:_Age_of_Ultron</th>\n",
       "      <th>https://en.wikipedia.org/wiki/Avengers:_Endgame</th>\n",
       "    </tr>\n",
       "  </thead>\n",
       "  <tbody>\n",
       "    <tr>\n",
       "      <th>0</th>\n",
       "      <td>&lt;h1 class=\"firstHeading\" id=\"firstHeading\" lan...</td>\n",
       "      <td>&lt;h1 class=\"firstHeading\" id=\"firstHeading\" lan...</td>\n",
       "      <td>&lt;h1 class=\"firstHeading\" id=\"firstHeading\" lan...</td>\n",
       "      <td>&lt;h1 class=\"firstHeading\" id=\"firstHeading\" lan...</td>\n",
       "      <td>&lt;h1 class=\"firstHeading\" id=\"firstHeading\" lan...</td>\n",
       "    </tr>\n",
       "  </tbody>\n",
       "</table>\n",
       "</div>"
      ],
      "text/plain": [
       "     https://en.wikipedia.org/wiki/Avengers_(comics)  \\\n",
       "0  <h1 class=\"firstHeading\" id=\"firstHeading\" lan...   \n",
       "\n",
       "  https://en.wikipedia.org/wiki/The_Avengers:_Earth%27s_Mightiest_Heroes  \\\n",
       "0  <h1 class=\"firstHeading\" id=\"firstHeading\" lan...                       \n",
       "\n",
       "  https://en.wikipedia.org/wiki/The_Avengers:_United_They_Stand  \\\n",
       "0  <h1 class=\"firstHeading\" id=\"firstHeading\" lan...              \n",
       "\n",
       "  https://en.wikipedia.org/wiki/Avengers:_Age_of_Ultron  \\\n",
       "0  <h1 class=\"firstHeading\" id=\"firstHeading\" lan...      \n",
       "\n",
       "     https://en.wikipedia.org/wiki/Avengers:_Endgame  \n",
       "0  <h1 class=\"firstHeading\" id=\"firstHeading\" lan...  "
      ]
     },
     "execution_count": 19,
     "metadata": {},
     "output_type": "execute_result"
    }
   ],
   "source": [
    "df.head()"
   ]
  },
  {
   "cell_type": "code",
   "execution_count": null,
   "metadata": {},
   "outputs": [],
   "source": []
  },
  {
   "cell_type": "code",
   "execution_count": null,
   "metadata": {},
   "outputs": [],
   "source": []
  },
  {
   "cell_type": "code",
   "execution_count": null,
   "metadata": {},
   "outputs": [],
   "source": []
  },
  {
   "cell_type": "code",
   "execution_count": null,
   "metadata": {},
   "outputs": [],
   "source": []
  }
 ],
 "metadata": {
  "kernelspec": {
   "display_name": "Python 3",
   "language": "python",
   "name": "python3"
  },
  "language_info": {
   "codemirror_mode": {
    "name": "ipython",
    "version": 3
   },
   "file_extension": ".py",
   "mimetype": "text/x-python",
   "name": "python",
   "nbconvert_exporter": "python",
   "pygments_lexer": "ipython3",
   "version": "3.7.3"
  }
 },
 "nbformat": 4,
 "nbformat_minor": 2
}
